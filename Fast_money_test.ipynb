{
 "cells": [
  {
   "cell_type": "markdown",
   "id": "1bc79b87-805f-42d5-9ae8-057aa932e1e1",
   "metadata": {
    "jp-MarkdownHeadingCollapsed": true
   },
   "source": [
    "# 1. Задание #"
   ]
  },
  {
   "cell_type": "markdown",
   "id": "71fc34d7-2698-4fd0-b9ee-7fd198bc9a7e",
   "metadata": {},
   "source": [
    "## 1.1. Решите задачу двухклассовой классификации, обучив модель на данных в data.csv После обучения вы должны получить вероятность принадлежности каждого объекта к таргет, равному единице 1. ##"
   ]
  },
  {
   "cell_type": "code",
   "execution_count": 124,
   "id": "2436447f-6d61-47fa-a0ce-b04a0966addf",
   "metadata": {},
   "outputs": [],
   "source": [
    "from nltk.corpus import stopwords\n",
    "from pymystem3 import Mystem\n",
    "import pickle as p\n",
    "from sklearn.metrics import accuracy_score\n",
    "from sklearn.preprocessing import LabelEncoder\n",
    "from sklearn.ensemble import RandomForestClassifier\n",
    "from keras.preprocessing.text import Tokenizer as token\n",
    "from tensorflow.keras.preprocessing.sequence import pad_sequences\n",
    "from sklearn.model_selection import train_test_split\n",
    "import re\n",
    "import pandas as pd\n",
    "import numpy as np\n",
    "import seaborn as sns\n",
    "from sklearn.linear_model import LogisticRegression\n",
    "from sklearn.metrics import f1_score\n",
    "from sklearn.metrics import roc_auc_score\n",
    "import xgboost"
   ]
  },
  {
   "cell_type": "code",
   "execution_count": 47,
   "id": "198a1e81-9b37-4507-8807-01be20e3767a",
   "metadata": {},
   "outputs": [],
   "source": [
    "def eval_gini(y_true, y_prob):\n",
    "    y_true = np.asarray(y_true)\n",
    "    y_true = y_true[np.argsort(y_prob)]\n",
    "    ntrue = 0\n",
    "    gini = 0\n",
    "    delta = 0\n",
    "    n = len(y_true)\n",
    "    for i in range(n-1, -1, -1):\n",
    "        y_i = y_true[i]\n",
    "        ntrue += y_i\n",
    "        gini += y_i * delta\n",
    "        delta += 1 - y_i\n",
    "    gini = 1 - 2 * gini / (ntrue * (n - ntrue))\n",
    "    return gini"
   ]
  },
  {
   "cell_type": "code",
   "execution_count": 9,
   "id": "822e32a9-0c06-49de-af7b-d58fe8c78cb0",
   "metadata": {},
   "outputs": [],
   "source": [
    "df = pd.read_csv('data.csv', sep = ';')"
   ]
  },
  {
   "cell_type": "code",
   "execution_count": 17,
   "id": "00494410-0534-4157-8f80-864160129a15",
   "metadata": {},
   "outputs": [],
   "source": [
    "df = df.dropna()"
   ]
  },
  {
   "cell_type": "code",
   "execution_count": 18,
   "id": "59237d7c-d308-4db2-8e62-54e4bb3da8f5",
   "metadata": {},
   "outputs": [
    {
     "name": "stderr",
     "output_type": "stream",
     "text": [
      "C:\\Users\\maxim\\AppData\\Local\\Temp\\ipykernel_13416\\3742010712.py:3: FutureWarning: \n",
      "\n",
      "Passing `palette` without assigning `hue` is deprecated and will be removed in v0.14.0. Assign the `x` variable to `hue` and set `legend=False` for the same effect.\n",
      "\n",
      "  sns.countplot(x=df['target'], palette=[green, red])\n"
     ]
    },
    {
     "data": {
      "text/plain": [
       "<Axes: xlabel='target', ylabel='count'>"
      ]
     },
     "execution_count": 18,
     "metadata": {},
     "output_type": "execute_result"
    },
    {
     "data": {
      "image/png": "[encoded data removed]",
      "text/plain": [
       "<Figure size 640x480 with 1 Axes>"
      ]
     },
     "metadata": {},
     "output_type": "display_data"
    }
   ],
   "source": [
    "green = '#52BE80'\n",
    "red = '#EC7063'\n",
    "sns.countplot(x=df['target'], palette=[green, red])"
   ]
  },
  {
   "cell_type": "code",
   "execution_count": 86,
   "id": "30de5ed3-cb30-4911-8be3-3200a01b1507",
   "metadata": {},
   "outputs": [],
   "source": [
    "y = df['target']\n",
    "df = df.drop(columns = ['target'])"
   ]
  },
  {
   "cell_type": "code",
   "execution_count": 88,
   "id": "8be4c694-1bdd-4427-8cee-3b5f9349c960",
   "metadata": {},
   "outputs": [
    {
     "name": "stdout",
     "output_type": "stream",
     "text": [
      "Shape of train (149748, 125)\n",
      "Shape of Validation  (64179, 125)\n"
     ]
    }
   ],
   "source": [
    "X_train, X_test, y_train, y_test = train_test_split(df, y, test_size=0.3, random_state=42)\n",
    "print('Shape of train',X_train.shape)\n",
    "print(\"Shape of Validation \",X_test.shape)"
   ]
  },
  {
   "cell_type": "code",
   "execution_count": 89,
   "id": "9f0d472c-69b9-408d-8e3c-623f840d8919",
   "metadata": {},
   "outputs": [],
   "source": [
    "rfc = RandomForestClassifier(criterion='entropy', n_estimators=700)"
   ]
  },
  {
   "cell_type": "code",
   "execution_count": 90,
   "id": "f1553b0f-10f9-4e22-936e-b7c967a3a7bc",
   "metadata": {},
   "outputs": [
    {
     "data": {
      "text/html": [
       "<style>#sk-container-id-3 {color: black;background-color: white;}#sk-container-id-3 pre{padding: 0;}#sk-container-id-3 div.sk-toggleable {background-color: white;}#sk-container-id-3 label.sk-toggleable__label {cursor: pointer;display: block;width: 100%;margin-bottom: 0;padding: 0.3em;box-sizing: border-box;text-align: center;}#sk-container-id-3 label.sk-toggleable__label-arrow:before {content: \"▸\";float: left;margin-right: 0.25em;color: #696969;}#sk-container-id-3 label.sk-toggleable__label-arrow:hover:before {color: black;}#sk-container-id-3 div.sk-estimator:hover label.sk-toggleable__label-arrow:before {color: black;}#sk-container-id-3 div.sk-toggleable__content {max-height: 0;max-width: 0;overflow: hidden;text-align: left;background-color: #f0f8ff;}#sk-container-id-3 div.sk-toggleable__content pre {margin: 0.2em;color: black;border-radius: 0.25em;background-color: #f0f8ff;}#sk-container-id-3 input.sk-toggleable__control:checked~div.sk-toggleable__content {max-height: 200px;max-width: 100%;overflow: auto;}#sk-container-id-3 input.sk-toggleable__control:checked~label.sk-toggleable__label-arrow:before {content: \"▾\";}#sk-container-id-3 div.sk-estimator input.sk-toggleable__control:checked~label.sk-toggleable__label {background-color: #d4ebff;}#sk-container-id-3 div.sk-label input.sk-toggleable__control:checked~label.sk-toggleable__label {background-color: #d4ebff;}#sk-container-id-3 input.sk-hidden--visually {border: 0;clip: rect(1px 1px 1px 1px);clip: rect(1px, 1px, 1px, 1px);height: 1px;margin: -1px;overflow: hidden;padding: 0;position: absolute;width: 1px;}#sk-container-id-3 div.sk-estimator {font-family: monospace;background-color: #f0f8ff;border: 1px dotted black;border-radius: 0.25em;box-sizing: border-box;margin-bottom: 0.5em;}#sk-container-id-3 div.sk-estimator:hover {background-color: #d4ebff;}#sk-container-id-3 div.sk-parallel-item::after {content: \"\";width: 100%;border-bottom: 1px solid gray;flex-grow: 1;}#sk-container-id-3 div.sk-label:hover label.sk-toggleable__label {background-color: #d4ebff;}#sk-container-id-3 div.sk-serial::before {content: \"\";position: absolute;border-left: 1px solid gray;box-sizing: border-box;top: 0;bottom: 0;left: 50%;z-index: 0;}#sk-container-id-3 div.sk-serial {display: flex;flex-direction: column;align-items: center;background-color: white;padding-right: 0.2em;padding-left: 0.2em;position: relative;}#sk-container-id-3 div.sk-item {position: relative;z-index: 1;}#sk-container-id-3 div.sk-parallel {display: flex;align-items: stretch;justify-content: center;background-color: white;position: relative;}#sk-container-id-3 div.sk-item::before, #sk-container-id-3 div.sk-parallel-item::before {content: \"\";position: absolute;border-left: 1px solid gray;box-sizing: border-box;top: 0;bottom: 0;left: 50%;z-index: -1;}#sk-container-id-3 div.sk-parallel-item {display: flex;flex-direction: column;z-index: 1;position: relative;background-color: white;}#sk-container-id-3 div.sk-parallel-item:first-child::after {align-self: flex-end;width: 50%;}#sk-container-id-3 div.sk-parallel-item:last-child::after {align-self: flex-start;width: 50%;}#sk-container-id-3 div.sk-parallel-item:only-child::after {width: 0;}#sk-container-id-3 div.sk-dashed-wrapped {border: 1px dashed gray;margin: 0 0.4em 0.5em 0.4em;box-sizing: border-box;padding-bottom: 0.4em;background-color: white;}#sk-container-id-3 div.sk-label label {font-family: monospace;font-weight: bold;display: inline-block;line-height: 1.2em;}#sk-container-id-3 div.sk-label-container {text-align: center;}#sk-container-id-3 div.sk-container {/* jupyter's `normalize.less` sets `[hidden] { display: none; }` but bootstrap.min.css set `[hidden] { display: none !important; }` so we also need the `!important` here to be able to override the default hidden behavior on the sphinx rendered scikit-learn.org. See: https://github.com/scikit-learn/scikit-learn/issues/21755 */display: inline-block !important;position: relative;}#sk-container-id-3 div.sk-text-repr-fallback {display: none;}</style><div id=\"sk-container-id-3\" class=\"sk-top-container\"><div class=\"sk-text-repr-fallback\"><pre>RandomForestClassifier(criterion=&#x27;entropy&#x27;, n_estimators=700)</pre><b>In a Jupyter environment, please rerun this cell to show the HTML representation or trust the notebook. <br />On GitHub, the HTML representation is unable to render, please try loading this page with nbviewer.org.</b></div><div class=\"sk-container\" hidden><div class=\"sk-item\"><div class=\"sk-estimator sk-toggleable\"><input class=\"sk-toggleable__control sk-hidden--visually\" id=\"sk-estimator-id-3\" type=\"checkbox\" checked><label for=\"sk-estimator-id-3\" class=\"sk-toggleable__label sk-toggleable__label-arrow\">RandomForestClassifier</label><div class=\"sk-toggleable__content\"><pre>RandomForestClassifier(criterion=&#x27;entropy&#x27;, n_estimators=700)</pre></div></div></div></div></div>"
      ],
      "text/plain": [
       "RandomForestClassifier(criterion='entropy', n_estimators=700)"
      ]
     },
     "execution_count": 90,
     "metadata": {},
     "output_type": "execute_result"
    }
   ],
   "source": [
    "rfc.fit(X_train, y_train)"
   ]
  },
  {
   "cell_type": "code",
   "execution_count": 91,
   "id": "7df0dc57-cba0-4dc6-8b34-4245941fcdfd",
   "metadata": {},
   "outputs": [],
   "source": [
    "y_predrfc = rfc.predict(X_test)"
   ]
  },
  {
   "cell_type": "code",
   "execution_count": 92,
   "id": "2e27a831-848f-43cd-a693-2b138d31bc45",
   "metadata": {},
   "outputs": [],
   "source": [
    "model_xgboost = xgboost.XGBClassifier(learning_rate=0.1,\n",
    "                                      max_depth=10,\n",
    "                                      n_estimators=500,\n",
    "                                      subsample=0.5,\n",
    "                                      colsample_bytree=0.5,\n",
    "                                      eval_metric='auc',\n",
    "                                      verbosity=1)"
   ]
  },
  {
   "cell_type": "code",
   "execution_count": 93,
   "id": "c4110a0d-07bc-4acd-992c-ddf184acee99",
   "metadata": {},
   "outputs": [],
   "source": [
    "eval_set = [(X_test, y_test)]"
   ]
  },
  {
   "cell_type": "code",
   "execution_count": 94,
   "id": "f12db578-91f3-452d-bbfb-e18d66020463",
   "metadata": {},
   "outputs": [
    {
     "name": "stderr",
     "output_type": "stream",
     "text": [
      "C:\\Users\\maxim\\anaconda3\\envs\\py10\\lib\\site-packages\\xgboost\\sklearn.py:835: UserWarning: `early_stopping_rounds` in `fit` method is deprecated for better compatibility with scikit-learn, use `early_stopping_rounds` in constructor or`set_params` instead.\n",
      "  warnings.warn(\n"
     ]
    },
    {
     "name": "stdout",
     "output_type": "stream",
     "text": [
      "[0]\tvalidation_0-auc:0.72738\n",
      "[1]\tvalidation_0-auc:0.76600\n",
      "[2]\tvalidation_0-auc:0.76940\n",
      "[3]\tvalidation_0-auc:0.76955\n",
      "[4]\tvalidation_0-auc:0.77798\n",
      "[5]\tvalidation_0-auc:0.78030\n",
      "[6]\tvalidation_0-auc:0.78326\n",
      "[7]\tvalidation_0-auc:0.78321\n",
      "[8]\tvalidation_0-auc:0.78391\n",
      "[9]\tvalidation_0-auc:0.78498\n",
      "[10]\tvalidation_0-auc:0.78593\n",
      "[11]\tvalidation_0-auc:0.78643\n",
      "[12]\tvalidation_0-auc:0.78701\n",
      "[13]\tvalidation_0-auc:0.78695\n",
      "[14]\tvalidation_0-auc:0.78740\n",
      "[15]\tvalidation_0-auc:0.78814\n",
      "[16]\tvalidation_0-auc:0.78829\n",
      "[17]\tvalidation_0-auc:0.78859\n",
      "[18]\tvalidation_0-auc:0.78865\n",
      "[19]\tvalidation_0-auc:0.78883\n",
      "[20]\tvalidation_0-auc:0.78918\n",
      "[21]\tvalidation_0-auc:0.78906\n",
      "[22]\tvalidation_0-auc:0.78899\n",
      "[23]\tvalidation_0-auc:0.78928\n",
      "[24]\tvalidation_0-auc:0.78938\n",
      "[25]\tvalidation_0-auc:0.78938\n",
      "[26]\tvalidation_0-auc:0.78932\n",
      "[27]\tvalidation_0-auc:0.78956\n",
      "[28]\tvalidation_0-auc:0.78957\n",
      "[29]\tvalidation_0-auc:0.78962\n",
      "[30]\tvalidation_0-auc:0.78992\n",
      "[31]\tvalidation_0-auc:0.78996\n",
      "[32]\tvalidation_0-auc:0.79015\n",
      "[33]\tvalidation_0-auc:0.79017\n",
      "[34]\tvalidation_0-auc:0.78992\n",
      "[35]\tvalidation_0-auc:0.78993\n",
      "[36]\tvalidation_0-auc:0.78990\n",
      "[37]\tvalidation_0-auc:0.78987\n",
      "[38]\tvalidation_0-auc:0.78965\n",
      "[39]\tvalidation_0-auc:0.78953\n",
      "[40]\tvalidation_0-auc:0.78961\n",
      "[41]\tvalidation_0-auc:0.78980\n",
      "[42]\tvalidation_0-auc:0.78988\n",
      "[43]\tvalidation_0-auc:0.79005\n",
      "[44]\tvalidation_0-auc:0.78977\n",
      "[45]\tvalidation_0-auc:0.78971\n",
      "[46]\tvalidation_0-auc:0.78958\n",
      "[47]\tvalidation_0-auc:0.78945\n",
      "[48]\tvalidation_0-auc:0.78953\n",
      "[49]\tvalidation_0-auc:0.78943\n",
      "[50]\tvalidation_0-auc:0.78954\n",
      "[51]\tvalidation_0-auc:0.78954\n",
      "[52]\tvalidation_0-auc:0.78943\n",
      "[53]\tvalidation_0-auc:0.78939\n",
      "[54]\tvalidation_0-auc:0.78948\n",
      "[55]\tvalidation_0-auc:0.78932\n",
      "[56]\tvalidation_0-auc:0.78940\n",
      "[57]\tvalidation_0-auc:0.78920\n",
      "[58]\tvalidation_0-auc:0.78922\n",
      "[59]\tvalidation_0-auc:0.78929\n",
      "[60]\tvalidation_0-auc:0.78935\n",
      "[61]\tvalidation_0-auc:0.78941\n",
      "[62]\tvalidation_0-auc:0.78940\n",
      "[63]\tvalidation_0-auc:0.78946\n",
      "[64]\tvalidation_0-auc:0.78932\n",
      "[65]\tvalidation_0-auc:0.78935\n",
      "[66]\tvalidation_0-auc:0.78918\n",
      "[67]\tvalidation_0-auc:0.78887\n",
      "[68]\tvalidation_0-auc:0.78879\n",
      "[69]\tvalidation_0-auc:0.78864\n",
      "[70]\tvalidation_0-auc:0.78859\n",
      "[71]\tvalidation_0-auc:0.78869\n",
      "[72]\tvalidation_0-auc:0.78865\n",
      "[73]\tvalidation_0-auc:0.78851\n",
      "[74]\tvalidation_0-auc:0.78849\n",
      "[75]\tvalidation_0-auc:0.78851\n",
      "[76]\tvalidation_0-auc:0.78859\n",
      "[77]\tvalidation_0-auc:0.78859\n",
      "[78]\tvalidation_0-auc:0.78862\n",
      "[79]\tvalidation_0-auc:0.78860\n",
      "[80]\tvalidation_0-auc:0.78860\n",
      "[81]\tvalidation_0-auc:0.78852\n",
      "[82]\tvalidation_0-auc:0.78857\n",
      "[83]\tvalidation_0-auc:0.78853\n",
      "[84]\tvalidation_0-auc:0.78847\n",
      "[85]\tvalidation_0-auc:0.78838\n",
      "[86]\tvalidation_0-auc:0.78815\n",
      "[87]\tvalidation_0-auc:0.78815\n",
      "[88]\tvalidation_0-auc:0.78811\n",
      "[89]\tvalidation_0-auc:0.78808\n",
      "[90]\tvalidation_0-auc:0.78800\n",
      "[91]\tvalidation_0-auc:0.78773\n",
      "[92]\tvalidation_0-auc:0.78769\n",
      "[93]\tvalidation_0-auc:0.78773\n",
      "[94]\tvalidation_0-auc:0.78772\n",
      "[95]\tvalidation_0-auc:0.78769\n",
      "[96]\tvalidation_0-auc:0.78767\n",
      "[97]\tvalidation_0-auc:0.78762\n",
      "[98]\tvalidation_0-auc:0.78746\n",
      "[99]\tvalidation_0-auc:0.78741\n",
      "[100]\tvalidation_0-auc:0.78737\n",
      "[101]\tvalidation_0-auc:0.78741\n",
      "[102]\tvalidation_0-auc:0.78738\n",
      "[103]\tvalidation_0-auc:0.78735\n",
      "[104]\tvalidation_0-auc:0.78733\n",
      "[105]\tvalidation_0-auc:0.78736\n",
      "[106]\tvalidation_0-auc:0.78739\n",
      "[107]\tvalidation_0-auc:0.78747\n",
      "[108]\tvalidation_0-auc:0.78738\n",
      "[109]\tvalidation_0-auc:0.78737\n",
      "[110]\tvalidation_0-auc:0.78733\n",
      "[111]\tvalidation_0-auc:0.78722\n",
      "[112]\tvalidation_0-auc:0.78715\n",
      "[113]\tvalidation_0-auc:0.78711\n",
      "[114]\tvalidation_0-auc:0.78690\n",
      "[115]\tvalidation_0-auc:0.78685\n",
      "[116]\tvalidation_0-auc:0.78681\n",
      "[117]\tvalidation_0-auc:0.78677\n",
      "[118]\tvalidation_0-auc:0.78666\n",
      "[119]\tvalidation_0-auc:0.78658\n",
      "[120]\tvalidation_0-auc:0.78661\n",
      "[121]\tvalidation_0-auc:0.78661\n",
      "[122]\tvalidation_0-auc:0.78670\n",
      "[123]\tvalidation_0-auc:0.78667\n",
      "[124]\tvalidation_0-auc:0.78649\n",
      "[125]\tvalidation_0-auc:0.78648\n",
      "[126]\tvalidation_0-auc:0.78650\n",
      "[127]\tvalidation_0-auc:0.78638\n",
      "[128]\tvalidation_0-auc:0.78631\n",
      "[129]\tvalidation_0-auc:0.78627\n",
      "[130]\tvalidation_0-auc:0.78615\n",
      "[131]\tvalidation_0-auc:0.78607\n",
      "[132]\tvalidation_0-auc:0.78600\n"
     ]
    },
    {
     "data": {
      "text/html": [
       "<style>#sk-container-id-4 {color: black;background-color: white;}#sk-container-id-4 pre{padding: 0;}#sk-container-id-4 div.sk-toggleable {background-color: white;}#sk-container-id-4 label.sk-toggleable__label {cursor: pointer;display: block;width: 100%;margin-bottom: 0;padding: 0.3em;box-sizing: border-box;text-align: center;}#sk-container-id-4 label.sk-toggleable__label-arrow:before {content: \"▸\";float: left;margin-right: 0.25em;color: #696969;}#sk-container-id-4 label.sk-toggleable__label-arrow:hover:before {color: black;}#sk-container-id-4 div.sk-estimator:hover label.sk-toggleable__label-arrow:before {color: black;}#sk-container-id-4 div.sk-toggleable__content {max-height: 0;max-width: 0;overflow: hidden;text-align: left;background-color: #f0f8ff;}#sk-container-id-4 div.sk-toggleable__content pre {margin: 0.2em;color: black;border-radius: 0.25em;background-color: #f0f8ff;}#sk-container-id-4 input.sk-toggleable__control:checked~div.sk-toggleable__content {max-height: 200px;max-width: 100%;overflow: auto;}#sk-container-id-4 input.sk-toggleable__control:checked~label.sk-toggleable__label-arrow:before {content: \"▾\";}#sk-container-id-4 div.sk-estimator input.sk-toggleable__control:checked~label.sk-toggleable__label {background-color: #d4ebff;}#sk-container-id-4 div.sk-label input.sk-toggleable__control:checked~label.sk-toggleable__label {background-color: #d4ebff;}#sk-container-id-4 input.sk-hidden--visually {border: 0;clip: rect(1px 1px 1px 1px);clip: rect(1px, 1px, 1px, 1px);height: 1px;margin: -1px;overflow: hidden;padding: 0;position: absolute;width: 1px;}#sk-container-id-4 div.sk-estimator {font-family: monospace;background-color: #f0f8ff;border: 1px dotted black;border-radius: 0.25em;box-sizing: border-box;margin-bottom: 0.5em;}#sk-container-id-4 div.sk-estimator:hover {background-color: #d4ebff;}#sk-container-id-4 div.sk-parallel-item::after {content: \"\";width: 100%;border-bottom: 1px solid gray;flex-grow: 1;}#sk-container-id-4 div.sk-label:hover label.sk-toggleable__label {background-color: #d4ebff;}#sk-container-id-4 div.sk-serial::before {content: \"\";position: absolute;border-left: 1px solid gray;box-sizing: border-box;top: 0;bottom: 0;left: 50%;z-index: 0;}#sk-container-id-4 div.sk-serial {display: flex;flex-direction: column;align-items: center;background-color: white;padding-right: 0.2em;padding-left: 0.2em;position: relative;}#sk-container-id-4 div.sk-item {position: relative;z-index: 1;}#sk-container-id-4 div.sk-parallel {display: flex;align-items: stretch;justify-content: center;background-color: white;position: relative;}#sk-container-id-4 div.sk-item::before, #sk-container-id-4 div.sk-parallel-item::before {content: \"\";position: absolute;border-left: 1px solid gray;box-sizing: border-box;top: 0;bottom: 0;left: 50%;z-index: -1;}#sk-container-id-4 div.sk-parallel-item {display: flex;flex-direction: column;z-index: 1;position: relative;background-color: white;}#sk-container-id-4 div.sk-parallel-item:first-child::after {align-self: flex-end;width: 50%;}#sk-container-id-4 div.sk-parallel-item:last-child::after {align-self: flex-start;width: 50%;}#sk-container-id-4 div.sk-parallel-item:only-child::after {width: 0;}#sk-container-id-4 div.sk-dashed-wrapped {border: 1px dashed gray;margin: 0 0.4em 0.5em 0.4em;box-sizing: border-box;padding-bottom: 0.4em;background-color: white;}#sk-container-id-4 div.sk-label label {font-family: monospace;font-weight: bold;display: inline-block;line-height: 1.2em;}#sk-container-id-4 div.sk-label-container {text-align: center;}#sk-container-id-4 div.sk-container {/* jupyter's `normalize.less` sets `[hidden] { display: none; }` but bootstrap.min.css set `[hidden] { display: none !important; }` so we also need the `!important` here to be able to override the default hidden behavior on the sphinx rendered scikit-learn.org. See: https://github.com/scikit-learn/scikit-learn/issues/21755 */display: inline-block !important;position: relative;}#sk-container-id-4 div.sk-text-repr-fallback {display: none;}</style><div id=\"sk-container-id-4\" class=\"sk-top-container\"><div class=\"sk-text-repr-fallback\"><pre>XGBClassifier(base_score=None, booster=None, callbacks=None,\n",
       "              colsample_bylevel=None, colsample_bynode=None,\n",
       "              colsample_bytree=0.5, early_stopping_rounds=None,\n",
       "              enable_categorical=False, eval_metric=&#x27;auc&#x27;, feature_types=None,\n",
       "              gamma=None, gpu_id=None, grow_policy=None, importance_type=None,\n",
       "              interaction_constraints=None, learning_rate=0.1, max_bin=None,\n",
       "              max_cat_threshold=None, max_cat_to_onehot=None,\n",
       "              max_delta_step=None, max_depth=10, max_leaves=None,\n",
       "              min_child_weight=None, missing=nan, monotone_constraints=None,\n",
       "              n_estimators=500, n_jobs=None, num_parallel_tree=None,\n",
       "              predictor=None, random_state=None, ...)</pre><b>In a Jupyter environment, please rerun this cell to show the HTML representation or trust the notebook. <br />On GitHub, the HTML representation is unable to render, please try loading this page with nbviewer.org.</b></div><div class=\"sk-container\" hidden><div class=\"sk-item\"><div class=\"sk-estimator sk-toggleable\"><input class=\"sk-toggleable__control sk-hidden--visually\" id=\"sk-estimator-id-4\" type=\"checkbox\" checked><label for=\"sk-estimator-id-4\" class=\"sk-toggleable__label sk-toggleable__label-arrow\">XGBClassifier</label><div class=\"sk-toggleable__content\"><pre>XGBClassifier(base_score=None, booster=None, callbacks=None,\n",
       "              colsample_bylevel=None, colsample_bynode=None,\n",
       "              colsample_bytree=0.5, early_stopping_rounds=None,\n",
       "              enable_categorical=False, eval_metric=&#x27;auc&#x27;, feature_types=None,\n",
       "              gamma=None, gpu_id=None, grow_policy=None, importance_type=None,\n",
       "              interaction_constraints=None, learning_rate=0.1, max_bin=None,\n",
       "              max_cat_threshold=None, max_cat_to_onehot=None,\n",
       "              max_delta_step=None, max_depth=10, max_leaves=None,\n",
       "              min_child_weight=None, missing=nan, monotone_constraints=None,\n",
       "              n_estimators=500, n_jobs=None, num_parallel_tree=None,\n",
       "              predictor=None, random_state=None, ...)</pre></div></div></div></div></div>"
      ],
      "text/plain": [
       "XGBClassifier(base_score=None, booster=None, callbacks=None,\n",
       "              colsample_bylevel=None, colsample_bynode=None,\n",
       "              colsample_bytree=0.5, early_stopping_rounds=None,\n",
       "              enable_categorical=False, eval_metric='auc', feature_types=None,\n",
       "              gamma=None, gpu_id=None, grow_policy=None, importance_type=None,\n",
       "              interaction_constraints=None, learning_rate=0.1, max_bin=None,\n",
       "              max_cat_threshold=None, max_cat_to_onehot=None,\n",
       "              max_delta_step=None, max_depth=10, max_leaves=None,\n",
       "              min_child_weight=None, missing=nan, monotone_constraints=None,\n",
       "              n_estimators=500, n_jobs=None, num_parallel_tree=None,\n",
       "              predictor=None, random_state=None, ...)"
      ]
     },
     "execution_count": 94,
     "metadata": {},
     "output_type": "execute_result"
    }
   ],
   "source": [
    "model_xgboost.fit(X_train,\n",
    "                          y_train,\n",
    "                          early_stopping_rounds=100,\n",
    "                          eval_set=eval_set,\n",
    "                          verbose=True)"
   ]
  },
  {
   "cell_type": "code",
   "execution_count": 95,
   "id": "4d4281d1-b8fb-4bfc-ada7-edb5c1552c99",
   "metadata": {},
   "outputs": [],
   "source": [
    "y_predxgb = model_xgboost.predict(X_test)"
   ]
  },
  {
   "cell_type": "code",
   "execution_count": 125,
   "id": "41bb3a4c-0cce-4d9b-b525-83077219f5fe",
   "metadata": {},
   "outputs": [
    {
     "data": {
      "text/html": [
       "<style>#sk-container-id-5 {color: black;background-color: white;}#sk-container-id-5 pre{padding: 0;}#sk-container-id-5 div.sk-toggleable {background-color: white;}#sk-container-id-5 label.sk-toggleable__label {cursor: pointer;display: block;width: 100%;margin-bottom: 0;padding: 0.3em;box-sizing: border-box;text-align: center;}#sk-container-id-5 label.sk-toggleable__label-arrow:before {content: \"▸\";float: left;margin-right: 0.25em;color: #696969;}#sk-container-id-5 label.sk-toggleable__label-arrow:hover:before {color: black;}#sk-container-id-5 div.sk-estimator:hover label.sk-toggleable__label-arrow:before {color: black;}#sk-container-id-5 div.sk-toggleable__content {max-height: 0;max-width: 0;overflow: hidden;text-align: left;background-color: #f0f8ff;}#sk-container-id-5 div.sk-toggleable__content pre {margin: 0.2em;color: black;border-radius: 0.25em;background-color: #f0f8ff;}#sk-container-id-5 input.sk-toggleable__control:checked~div.sk-toggleable__content {max-height: 200px;max-width: 100%;overflow: auto;}#sk-container-id-5 input.sk-toggleable__control:checked~label.sk-toggleable__label-arrow:before {content: \"▾\";}#sk-container-id-5 div.sk-estimator input.sk-toggleable__control:checked~label.sk-toggleable__label {background-color: #d4ebff;}#sk-container-id-5 div.sk-label input.sk-toggleable__control:checked~label.sk-toggleable__label {background-color: #d4ebff;}#sk-container-id-5 input.sk-hidden--visually {border: 0;clip: rect(1px 1px 1px 1px);clip: rect(1px, 1px, 1px, 1px);height: 1px;margin: -1px;overflow: hidden;padding: 0;position: absolute;width: 1px;}#sk-container-id-5 div.sk-estimator {font-family: monospace;background-color: #f0f8ff;border: 1px dotted black;border-radius: 0.25em;box-sizing: border-box;margin-bottom: 0.5em;}#sk-container-id-5 div.sk-estimator:hover {background-color: #d4ebff;}#sk-container-id-5 div.sk-parallel-item::after {content: \"\";width: 100%;border-bottom: 1px solid gray;flex-grow: 1;}#sk-container-id-5 div.sk-label:hover label.sk-toggleable__label {background-color: #d4ebff;}#sk-container-id-5 div.sk-serial::before {content: \"\";position: absolute;border-left: 1px solid gray;box-sizing: border-box;top: 0;bottom: 0;left: 50%;z-index: 0;}#sk-container-id-5 div.sk-serial {display: flex;flex-direction: column;align-items: center;background-color: white;padding-right: 0.2em;padding-left: 0.2em;position: relative;}#sk-container-id-5 div.sk-item {position: relative;z-index: 1;}#sk-container-id-5 div.sk-parallel {display: flex;align-items: stretch;justify-content: center;background-color: white;position: relative;}#sk-container-id-5 div.sk-item::before, #sk-container-id-5 div.sk-parallel-item::before {content: \"\";position: absolute;border-left: 1px solid gray;box-sizing: border-box;top: 0;bottom: 0;left: 50%;z-index: -1;}#sk-container-id-5 div.sk-parallel-item {display: flex;flex-direction: column;z-index: 1;position: relative;background-color: white;}#sk-container-id-5 div.sk-parallel-item:first-child::after {align-self: flex-end;width: 50%;}#sk-container-id-5 div.sk-parallel-item:last-child::after {align-self: flex-start;width: 50%;}#sk-container-id-5 div.sk-parallel-item:only-child::after {width: 0;}#sk-container-id-5 div.sk-dashed-wrapped {border: 1px dashed gray;margin: 0 0.4em 0.5em 0.4em;box-sizing: border-box;padding-bottom: 0.4em;background-color: white;}#sk-container-id-5 div.sk-label label {font-family: monospace;font-weight: bold;display: inline-block;line-height: 1.2em;}#sk-container-id-5 div.sk-label-container {text-align: center;}#sk-container-id-5 div.sk-container {/* jupyter's `normalize.less` sets `[hidden] { display: none; }` but bootstrap.min.css set `[hidden] { display: none !important; }` so we also need the `!important` here to be able to override the default hidden behavior on the sphinx rendered scikit-learn.org. See: https://github.com/scikit-learn/scikit-learn/issues/21755 */display: inline-block !important;position: relative;}#sk-container-id-5 div.sk-text-repr-fallback {display: none;}</style><div id=\"sk-container-id-5\" class=\"sk-top-container\"><div class=\"sk-text-repr-fallback\"><pre>LogisticRegression(random_state=0, solver=&#x27;liblinear&#x27;)</pre><b>In a Jupyter environment, please rerun this cell to show the HTML representation or trust the notebook. <br />On GitHub, the HTML representation is unable to render, please try loading this page with nbviewer.org.</b></div><div class=\"sk-container\" hidden><div class=\"sk-item\"><div class=\"sk-estimator sk-toggleable\"><input class=\"sk-toggleable__control sk-hidden--visually\" id=\"sk-estimator-id-5\" type=\"checkbox\" checked><label for=\"sk-estimator-id-5\" class=\"sk-toggleable__label sk-toggleable__label-arrow\">LogisticRegression</label><div class=\"sk-toggleable__content\"><pre>LogisticRegression(random_state=0, solver=&#x27;liblinear&#x27;)</pre></div></div></div></div></div>"
      ],
      "text/plain": [
       "LogisticRegression(random_state=0, solver='liblinear')"
      ]
     },
     "execution_count": 125,
     "metadata": {},
     "output_type": "execute_result"
    }
   ],
   "source": [
    "# instantiate the model\n",
    "logreg = LogisticRegression(solver='liblinear', random_state=0)\n",
    "\n",
    "\n",
    "# fit the model\n",
    "logreg.fit(X_train, y_train)"
   ]
  },
  {
   "cell_type": "code",
   "execution_count": 126,
   "id": "0e9533fe-b8f7-4107-b657-7a5e3cedbac1",
   "metadata": {},
   "outputs": [],
   "source": [
    "y_predlogreg = logreg.predict(X_test)"
   ]
  },
  {
   "cell_type": "markdown",
   "id": "b802bdfe-f2c1-433d-aad4-f11d446c5eb4",
   "metadata": {},
   "source": [
    "## 1.2. Сгруппируйте выборку по значениям вероятности с шагом 0.1, и в каждой группе посчитайте: сколько объектов в группе, сколько в группе объектов с target = 1. ##"
   ]
  },
  {
   "cell_type": "code",
   "execution_count": 96,
   "id": "da9b4633-1872-4284-8880-d2e31ff1e033",
   "metadata": {},
   "outputs": [
    {
     "name": "stdout",
     "output_type": "stream",
     "text": [
      "<class 'pandas.core.frame.DataFrame'>\n",
      "Index: 213927 entries, 0 to 255819\n",
      "Columns: 125 entries, ID to feature_124\n",
      "dtypes: float64(21), int64(104)\n",
      "memory usage: 205.6 MB\n"
     ]
    }
   ],
   "source": [
    "df.info()"
   ]
  },
  {
   "cell_type": "markdown",
   "id": "027e2ddd-4491-4a2c-bffe-411fffd9faad",
   "metadata": {},
   "source": [
    "## 1.3. Посчитайте метрики модели (F-мера, ROC-AUC, коэффициент Джини и другие) на данных из data.csv Основная метрика для задания – ROC-AUC. ##"
   ]
  },
  {
   "cell_type": "markdown",
   "id": "f8548aca-b3ee-4f21-a954-07824a133547",
   "metadata": {
    "jp-MarkdownHeadingCollapsed": true
   },
   "source": [
    "### RFC ###"
   ]
  },
  {
   "cell_type": "code",
   "execution_count": 97,
   "id": "f4afa8fa-f4cc-4093-9228-72a2f8e5002e",
   "metadata": {},
   "outputs": [
    {
     "data": {
      "text/plain": [
       "0.5808700021637516"
      ]
     },
     "execution_count": 97,
     "metadata": {},
     "output_type": "execute_result"
    }
   ],
   "source": [
    "f1_score(y_test, y_predrfc, average='macro')"
   ]
  },
  {
   "cell_type": "code",
   "execution_count": 98,
   "id": "eb578172-3e49-46c8-a191-e7245109c951",
   "metadata": {},
   "outputs": [
    {
     "data": {
      "text/plain": [
       "0.2493289591410677"
      ]
     },
     "execution_count": 98,
     "metadata": {},
     "output_type": "execute_result"
    }
   ],
   "source": [
    "f1_score(y_test, y_predrfc)"
   ]
  },
  {
   "cell_type": "code",
   "execution_count": 129,
   "id": "e1588b5d-4118-461b-bfc2-aa3bc64c5a6d",
   "metadata": {},
   "outputs": [
    {
     "data": {
      "text/plain": [
       "0.56835764806632"
      ]
     },
     "execution_count": 129,
     "metadata": {},
     "output_type": "execute_result"
    }
   ],
   "source": [
    "roc_auc_score(y_test, y_predrfc, multi_class='ovr')"
   ]
  },
  {
   "cell_type": "code",
   "execution_count": 130,
   "id": "a0b633f8-aeab-4a31-8cb9-94a6a35e2fc6",
   "metadata": {},
   "outputs": [
    {
     "data": {
      "text/plain": [
       "0.13712793764881226"
      ]
     },
     "execution_count": 130,
     "metadata": {},
     "output_type": "execute_result"
    }
   ],
   "source": [
    "eval_gini(y_test, y_predrfc)"
   ]
  },
  {
   "cell_type": "code",
   "execution_count": 101,
   "id": "356219b8-8b7e-4ca9-86fb-815faaa1c897",
   "metadata": {},
   "outputs": [
    {
     "data": {
      "text/plain": [
       "0.8431262562520451"
      ]
     },
     "execution_count": 101,
     "metadata": {},
     "output_type": "execute_result"
    }
   ],
   "source": [
    "accuracy_score(y_test, y_predrfc)"
   ]
  },
  {
   "cell_type": "markdown",
   "id": "49ec3143-3536-46c7-851a-7de7ee9a51f0",
   "metadata": {
    "jp-MarkdownHeadingCollapsed": true
   },
   "source": [
    "### XGB ###"
   ]
  },
  {
   "cell_type": "code",
   "execution_count": 102,
   "id": "b88dad37-e4f4-4f2e-95a6-9a5aa1544848",
   "metadata": {},
   "outputs": [
    {
     "data": {
      "text/plain": [
       "0.5885347906549779"
      ]
     },
     "execution_count": 102,
     "metadata": {},
     "output_type": "execute_result"
    }
   ],
   "source": [
    "f1_score(y_test, y_predxgb, average='macro')"
   ]
  },
  {
   "cell_type": "code",
   "execution_count": 103,
   "id": "4d106a71-f2aa-404b-abe5-9efb19bf8b0f",
   "metadata": {},
   "outputs": [
    {
     "data": {
      "text/plain": [
       "0.2651724639790423"
      ]
     },
     "execution_count": 103,
     "metadata": {},
     "output_type": "execute_result"
    }
   ],
   "source": [
    "f1_score(y_test, y_predxgb)"
   ]
  },
  {
   "cell_type": "code",
   "execution_count": 104,
   "id": "6ad89674-5d15-4790-b202-9a90e912ae56",
   "metadata": {},
   "outputs": [
    {
     "data": {
      "text/plain": [
       "0.573702671389907"
      ]
     },
     "execution_count": 104,
     "metadata": {},
     "output_type": "execute_result"
    }
   ],
   "source": [
    "roc_auc_score(y_test, y_predxgb, multi_class='ovr')"
   ]
  },
  {
   "cell_type": "code",
   "execution_count": 105,
   "id": "565dc54f-1883-40fd-a63b-e062eeb7310b",
   "metadata": {},
   "outputs": [
    {
     "data": {
      "text/plain": [
       "0.1460898409888569"
      ]
     },
     "execution_count": 105,
     "metadata": {},
     "output_type": "execute_result"
    }
   ],
   "source": [
    "eval_gini(y_test, y_predxgb)"
   ]
  },
  {
   "cell_type": "code",
   "execution_count": 128,
   "id": "ca5fe8dd-0a08-4b2c-803e-cc49d818b0e8",
   "metadata": {},
   "outputs": [
    {
     "data": {
      "text/plain": [
       "0.8426588136306269"
      ]
     },
     "execution_count": 128,
     "metadata": {},
     "output_type": "execute_result"
    }
   ],
   "source": [
    "accuracy_score(y_test, y_predxgb)"
   ]
  },
  {
   "cell_type": "markdown",
   "id": "2b711962-94fd-4da0-a675-1cff8233aa1e",
   "metadata": {
    "jp-MarkdownHeadingCollapsed": true
   },
   "source": [
    "### LogReg ###"
   ]
  },
  {
   "cell_type": "code",
   "execution_count": 131,
   "id": "4d8432db-84b6-4bb1-bb70-a52aa44763b4",
   "metadata": {},
   "outputs": [
    {
     "data": {
      "text/plain": [
       "0.5248823803680414"
      ]
     },
     "execution_count": 131,
     "metadata": {},
     "output_type": "execute_result"
    }
   ],
   "source": [
    "f1_score(y_test, y_predlogreg, average='macro')"
   ]
  },
  {
   "cell_type": "code",
   "execution_count": 132,
   "id": "a3fdb6b6-d295-4dc2-8487-09be4701ab8b",
   "metadata": {},
   "outputs": [
    {
     "data": {
      "text/plain": [
       "0.1410734554888925"
      ]
     },
     "execution_count": 132,
     "metadata": {},
     "output_type": "execute_result"
    }
   ],
   "source": [
    "f1_score(y_test, y_predlogreg)"
   ]
  },
  {
   "cell_type": "code",
   "execution_count": 133,
   "id": "b7875c58-abc7-432c-b07d-e467f5561481",
   "metadata": {},
   "outputs": [
    {
     "data": {
      "text/plain": [
       "0.5333653561118507"
      ]
     },
     "execution_count": 133,
     "metadata": {},
     "output_type": "execute_result"
    }
   ],
   "source": [
    "roc_auc_score(y_test, y_predlogreg, multi_class='ovr')"
   ]
  },
  {
   "cell_type": "code",
   "execution_count": 134,
   "id": "0f909eb7-eed1-4dbe-a60d-0c97ae9e95ac",
   "metadata": {},
   "outputs": [
    {
     "data": {
      "text/plain": [
       "0.06756454237627363"
      ]
     },
     "execution_count": 134,
     "metadata": {},
     "output_type": "execute_result"
    }
   ],
   "source": [
    "eval_gini(y_test, y_predlogreg)"
   ]
  },
  {
   "cell_type": "code",
   "execution_count": 135,
   "id": "810bdac0-362f-4bfc-ad06-f5a551d54cd4",
   "metadata": {},
   "outputs": [
    {
     "data": {
      "text/plain": [
       "0.8349304289565123"
      ]
     },
     "execution_count": 135,
     "metadata": {},
     "output_type": "execute_result"
    }
   ],
   "source": [
    "accuracy_score(y_test, y_predlogreg)"
   ]
  },
  {
   "cell_type": "markdown",
   "id": "9a750056-5c33-4d10-94d9-5529fb05e0b8",
   "metadata": {},
   "source": [
    "## 1.4. С помощью полученной модели определите вероятность принадлежности к таргет 1 каждого объекта из verify.csv. ##"
   ]
  },
  {
   "cell_type": "code",
   "execution_count": 139,
   "id": "9bd83c8f-953d-41b3-b2e7-3d58231082e7",
   "metadata": {},
   "outputs": [],
   "source": [
    "test = pd.read_csv('verify.csv', sep = ';')"
   ]
  },
  {
   "cell_type": "code",
   "execution_count": 140,
   "id": "75f288b4-9fd3-4a64-a771-1f715b056fe7",
   "metadata": {},
   "outputs": [],
   "source": [
    "test = test.dropna()"
   ]
  },
  {
   "cell_type": "code",
   "execution_count": 141,
   "id": "52d828d9-993a-4733-a1fe-898bfd23fb28",
   "metadata": {},
   "outputs": [],
   "source": [
    "y_predrfctest = rfc.predict(test)"
   ]
  },
  {
   "cell_type": "code",
   "execution_count": 142,
   "id": "1ab69a70-55cd-481c-8eaa-5dd350f2b643",
   "metadata": {},
   "outputs": [],
   "source": [
    "y_predxgbtest = model_xgboost.predict(test)"
   ]
  },
  {
   "cell_type": "code",
   "execution_count": 143,
   "id": "d5793291-c2d9-4446-aedc-8d39b8b77e85",
   "metadata": {},
   "outputs": [],
   "source": [
    "y_predlogregtest = logreg.predict(test)"
   ]
  },
  {
   "cell_type": "code",
   "execution_count": 144,
   "id": "60094589-27e5-4520-8f9b-1979c413e2ec",
   "metadata": {},
   "outputs": [],
   "source": [
    "out = pd.DataFrame({\"ID\": test[\"ID\"],\n",
    "                   \"scoreRFC\": y_predrfctest,\n",
    "                   \"scoreXGB\": y_predxgbtest,\n",
    "                   \"scoreLogReg\": y_predlogregtest})"
   ]
  },
  {
   "cell_type": "markdown",
   "id": "f767ef18-ee7d-4dff-a136-6cee332311ab",
   "metadata": {},
   "source": [
    "## 1.5 Запишите полученные предсказания в csv-файл (разделитель – точка с запятой). В файле должны быть два поля: ID – айди который задан в файле verify.csv и score – вероятность которую вы получили для данного ID. ##"
   ]
  },
  {
   "cell_type": "code",
   "execution_count": 145,
   "id": "130a4bfd-eae0-47f0-93a0-267a8d47630e",
   "metadata": {},
   "outputs": [],
   "source": [
    "df.to_csv('out.csv')"
   ]
  },
  {
   "cell_type": "markdown",
   "id": "2256c082-f875-4e19-8256-1e30811449f6",
   "metadata": {
    "jp-MarkdownHeadingCollapsed": true
   },
   "source": [
    "# 2. Вопросы #"
   ]
  },
  {
   "cell_type": "markdown",
   "id": "441872d8-9770-4462-908f-30461423cfcc",
   "metadata": {},
   "source": [
    "Ответьте на следующие вопросы:"
   ]
  },
  {
   "cell_type": "markdown",
   "id": "1c0fab6b-c2b3-4240-bfbb-4058b888719e",
   "metadata": {
    "jp-MarkdownHeadingCollapsed": true
   },
   "source": [
    "## Как можно заполнить пропущенные значения в данных? ##"
   ]
  },
  {
   "cell_type": "markdown",
   "id": "5fba4f0a-9b75-43d9-a69b-d8d84d83e070",
   "metadata": {},
   "source": [
    "df = df.fillna(0)"
   ]
  },
  {
   "cell_type": "markdown",
   "id": "c1bef34d-116c-41e8-ba9b-6d638c1912ee",
   "metadata": {
    "jp-MarkdownHeadingCollapsed": true
   },
   "source": [
    "## Что делать, если таргет несбалансированный?"
   ]
  },
  {
   "cell_type": "markdown",
   "id": "12121bd7-fc1a-4a9a-8154-f35a58b34081",
   "metadata": {},
   "source": [
    "Сбалансировать, выбрав соответствующее колличесво данных из датесета."
   ]
  },
  {
   "cell_type": "markdown",
   "id": "3504a013-7485-46cb-b55e-92c87d40f154",
   "metadata": {
    "jp-MarkdownHeadingCollapsed": true
   },
   "source": [
    "## Как бороться с переобучением? ##"
   ]
  },
  {
   "cell_type": "markdown",
   "id": "51dffaf5-36ef-43de-929a-43d724c1ac63",
   "metadata": {},
   "source": [
    "Подбирать гиперпараметры модели, и смотреть на скор при обучении."
   ]
  },
  {
   "cell_type": "markdown",
   "id": "cb0f2643-a9a8-4fef-9577-b246855c1f38",
   "metadata": {
    "jp-MarkdownHeadingCollapsed": true
   },
   "source": [
    "## Найдите потенциальные причины аномалий в наборе данных. ##"
   ]
  },
  {
   "cell_type": "markdown",
   "id": "376f8ffc-5a57-4375-8549-38c1b730fe8e",
   "metadata": {},
   "source": [
    "Анамалии в данных ищутся боксплотом. Взял нескоторые фичи для поиска."
   ]
  },
  {
   "cell_type": "code",
   "execution_count": 149,
   "id": "16123257-e98b-4f93-b5ee-59d0412bb10f",
   "metadata": {},
   "outputs": [],
   "source": [
    "df['target'] = y"
   ]
  },
  {
   "cell_type": "code",
   "execution_count": 150,
   "id": "0d20ef67-aabc-4670-adad-af6790ff2033",
   "metadata": {},
   "outputs": [
    {
     "data": {
      "text/html": [
       "<div>\n",
       "<style scoped>\n",
       "    .dataframe tbody tr th:only-of-type {\n",
       "        vertical-align: middle;\n",
       "    }\n",
       "\n",
       "    .dataframe tbody tr th {\n",
       "        vertical-align: top;\n",
       "    }\n",
       "\n",
       "    .dataframe thead th {\n",
       "        text-align: right;\n",
       "    }\n",
       "</style>\n",
       "<table border=\"1\" class=\"dataframe\">\n",
       "  <thead>\n",
       "    <tr style=\"text-align: right;\">\n",
       "      <th></th>\n",
       "      <th>ID</th>\n",
       "      <th>feature_1</th>\n",
       "      <th>feature_2</th>\n",
       "      <th>feature_3</th>\n",
       "      <th>feature_4</th>\n",
       "      <th>feature_5</th>\n",
       "      <th>feature_6</th>\n",
       "      <th>feature_7</th>\n",
       "      <th>feature_8</th>\n",
       "      <th>feature_9</th>\n",
       "      <th>...</th>\n",
       "      <th>feature_116</th>\n",
       "      <th>feature_117</th>\n",
       "      <th>feature_118</th>\n",
       "      <th>feature_119</th>\n",
       "      <th>feature_120</th>\n",
       "      <th>feature_121</th>\n",
       "      <th>feature_122</th>\n",
       "      <th>feature_123</th>\n",
       "      <th>feature_124</th>\n",
       "      <th>target</th>\n",
       "    </tr>\n",
       "  </thead>\n",
       "  <tbody>\n",
       "    <tr>\n",
       "      <th>0</th>\n",
       "      <td>1</td>\n",
       "      <td>1</td>\n",
       "      <td>0</td>\n",
       "      <td>0</td>\n",
       "      <td>1381</td>\n",
       "      <td>63</td>\n",
       "      <td>0</td>\n",
       "      <td>0</td>\n",
       "      <td>1</td>\n",
       "      <td>0</td>\n",
       "      <td>...</td>\n",
       "      <td>0</td>\n",
       "      <td>0</td>\n",
       "      <td>0</td>\n",
       "      <td>0.0</td>\n",
       "      <td>7000</td>\n",
       "      <td>4000</td>\n",
       "      <td>7526.3157</td>\n",
       "      <td>12000</td>\n",
       "      <td>0.583333</td>\n",
       "      <td>0</td>\n",
       "    </tr>\n",
       "    <tr>\n",
       "      <th>1</th>\n",
       "      <td>2</td>\n",
       "      <td>0</td>\n",
       "      <td>0</td>\n",
       "      <td>0</td>\n",
       "      <td>1809</td>\n",
       "      <td>33</td>\n",
       "      <td>1</td>\n",
       "      <td>0</td>\n",
       "      <td>1</td>\n",
       "      <td>0</td>\n",
       "      <td>...</td>\n",
       "      <td>0</td>\n",
       "      <td>0</td>\n",
       "      <td>0</td>\n",
       "      <td>0.0</td>\n",
       "      <td>10000</td>\n",
       "      <td>1000</td>\n",
       "      <td>8393.4426</td>\n",
       "      <td>30000</td>\n",
       "      <td>0.333333</td>\n",
       "      <td>0</td>\n",
       "    </tr>\n",
       "    <tr>\n",
       "      <th>2</th>\n",
       "      <td>3</td>\n",
       "      <td>0</td>\n",
       "      <td>0</td>\n",
       "      <td>0</td>\n",
       "      <td>1804</td>\n",
       "      <td>29</td>\n",
       "      <td>0</td>\n",
       "      <td>1</td>\n",
       "      <td>0</td>\n",
       "      <td>0</td>\n",
       "      <td>...</td>\n",
       "      <td>0</td>\n",
       "      <td>0</td>\n",
       "      <td>0</td>\n",
       "      <td>0.0</td>\n",
       "      <td>3000</td>\n",
       "      <td>1000</td>\n",
       "      <td>3425.9259</td>\n",
       "      <td>15000</td>\n",
       "      <td>0.200000</td>\n",
       "      <td>0</td>\n",
       "    </tr>\n",
       "    <tr>\n",
       "      <th>3</th>\n",
       "      <td>4</td>\n",
       "      <td>0</td>\n",
       "      <td>0</td>\n",
       "      <td>0</td>\n",
       "      <td>1560</td>\n",
       "      <td>28</td>\n",
       "      <td>1</td>\n",
       "      <td>1</td>\n",
       "      <td>0</td>\n",
       "      <td>0</td>\n",
       "      <td>...</td>\n",
       "      <td>0</td>\n",
       "      <td>0</td>\n",
       "      <td>0</td>\n",
       "      <td>0.0</td>\n",
       "      <td>2000</td>\n",
       "      <td>1000</td>\n",
       "      <td>1946.6666</td>\n",
       "      <td>3000</td>\n",
       "      <td>0.666667</td>\n",
       "      <td>0</td>\n",
       "    </tr>\n",
       "    <tr>\n",
       "      <th>4</th>\n",
       "      <td>5</td>\n",
       "      <td>0</td>\n",
       "      <td>0</td>\n",
       "      <td>0</td>\n",
       "      <td>258</td>\n",
       "      <td>33</td>\n",
       "      <td>1</td>\n",
       "      <td>0</td>\n",
       "      <td>0</td>\n",
       "      <td>0</td>\n",
       "      <td>...</td>\n",
       "      <td>0</td>\n",
       "      <td>0</td>\n",
       "      <td>0</td>\n",
       "      <td>0.0</td>\n",
       "      <td>2000</td>\n",
       "      <td>2000</td>\n",
       "      <td>4444.4444</td>\n",
       "      <td>8000</td>\n",
       "      <td>0.250000</td>\n",
       "      <td>0</td>\n",
       "    </tr>\n",
       "    <tr>\n",
       "      <th>...</th>\n",
       "      <td>...</td>\n",
       "      <td>...</td>\n",
       "      <td>...</td>\n",
       "      <td>...</td>\n",
       "      <td>...</td>\n",
       "      <td>...</td>\n",
       "      <td>...</td>\n",
       "      <td>...</td>\n",
       "      <td>...</td>\n",
       "      <td>...</td>\n",
       "      <td>...</td>\n",
       "      <td>...</td>\n",
       "      <td>...</td>\n",
       "      <td>...</td>\n",
       "      <td>...</td>\n",
       "      <td>...</td>\n",
       "      <td>...</td>\n",
       "      <td>...</td>\n",
       "      <td>...</td>\n",
       "      <td>...</td>\n",
       "      <td>...</td>\n",
       "    </tr>\n",
       "    <tr>\n",
       "      <th>255813</th>\n",
       "      <td>255814</td>\n",
       "      <td>0</td>\n",
       "      <td>0</td>\n",
       "      <td>0</td>\n",
       "      <td>63</td>\n",
       "      <td>66</td>\n",
       "      <td>0</td>\n",
       "      <td>0</td>\n",
       "      <td>0</td>\n",
       "      <td>0</td>\n",
       "      <td>...</td>\n",
       "      <td>0</td>\n",
       "      <td>0</td>\n",
       "      <td>0</td>\n",
       "      <td>0.0</td>\n",
       "      <td>1150</td>\n",
       "      <td>1150</td>\n",
       "      <td>1433.3333</td>\n",
       "      <td>2000</td>\n",
       "      <td>0.575000</td>\n",
       "      <td>0</td>\n",
       "    </tr>\n",
       "    <tr>\n",
       "      <th>255816</th>\n",
       "      <td>255817</td>\n",
       "      <td>0</td>\n",
       "      <td>0</td>\n",
       "      <td>0</td>\n",
       "      <td>501</td>\n",
       "      <td>29</td>\n",
       "      <td>0</td>\n",
       "      <td>1</td>\n",
       "      <td>0</td>\n",
       "      <td>0</td>\n",
       "      <td>...</td>\n",
       "      <td>0</td>\n",
       "      <td>0</td>\n",
       "      <td>0</td>\n",
       "      <td>0.0</td>\n",
       "      <td>3000</td>\n",
       "      <td>1000</td>\n",
       "      <td>5157.8947</td>\n",
       "      <td>22000</td>\n",
       "      <td>0.136364</td>\n",
       "      <td>0</td>\n",
       "    </tr>\n",
       "    <tr>\n",
       "      <th>255817</th>\n",
       "      <td>255818</td>\n",
       "      <td>1</td>\n",
       "      <td>0</td>\n",
       "      <td>0</td>\n",
       "      <td>99</td>\n",
       "      <td>64</td>\n",
       "      <td>0</td>\n",
       "      <td>0</td>\n",
       "      <td>1</td>\n",
       "      <td>0</td>\n",
       "      <td>...</td>\n",
       "      <td>0</td>\n",
       "      <td>0</td>\n",
       "      <td>0</td>\n",
       "      <td>0.0</td>\n",
       "      <td>5800</td>\n",
       "      <td>2400</td>\n",
       "      <td>4333.3333</td>\n",
       "      <td>5800</td>\n",
       "      <td>1.000000</td>\n",
       "      <td>0</td>\n",
       "    </tr>\n",
       "    <tr>\n",
       "      <th>255818</th>\n",
       "      <td>255819</td>\n",
       "      <td>0</td>\n",
       "      <td>0</td>\n",
       "      <td>0</td>\n",
       "      <td>43</td>\n",
       "      <td>33</td>\n",
       "      <td>0</td>\n",
       "      <td>1</td>\n",
       "      <td>0</td>\n",
       "      <td>0</td>\n",
       "      <td>...</td>\n",
       "      <td>0</td>\n",
       "      <td>0</td>\n",
       "      <td>0</td>\n",
       "      <td>0.0</td>\n",
       "      <td>2000</td>\n",
       "      <td>2000</td>\n",
       "      <td>6000.0000</td>\n",
       "      <td>10000</td>\n",
       "      <td>0.200000</td>\n",
       "      <td>0</td>\n",
       "    </tr>\n",
       "    <tr>\n",
       "      <th>255819</th>\n",
       "      <td>255820</td>\n",
       "      <td>0</td>\n",
       "      <td>0</td>\n",
       "      <td>0</td>\n",
       "      <td>159</td>\n",
       "      <td>57</td>\n",
       "      <td>1</td>\n",
       "      <td>1</td>\n",
       "      <td>0</td>\n",
       "      <td>0</td>\n",
       "      <td>...</td>\n",
       "      <td>0</td>\n",
       "      <td>0</td>\n",
       "      <td>0</td>\n",
       "      <td>0.0</td>\n",
       "      <td>1000</td>\n",
       "      <td>1000</td>\n",
       "      <td>1666.6666</td>\n",
       "      <td>2000</td>\n",
       "      <td>0.500000</td>\n",
       "      <td>0</td>\n",
       "    </tr>\n",
       "  </tbody>\n",
       "</table>\n",
       "<p>213927 rows × 126 columns</p>\n",
       "</div>"
      ],
      "text/plain": [
       "            ID  feature_1  feature_2  feature_3  feature_4  feature_5  \\\n",
       "0            1          1          0          0       1381         63   \n",
       "1            2          0          0          0       1809         33   \n",
       "2            3          0          0          0       1804         29   \n",
       "3            4          0          0          0       1560         28   \n",
       "4            5          0          0          0        258         33   \n",
       "...        ...        ...        ...        ...        ...        ...   \n",
       "255813  255814          0          0          0         63         66   \n",
       "255816  255817          0          0          0        501         29   \n",
       "255817  255818          1          0          0         99         64   \n",
       "255818  255819          0          0          0         43         33   \n",
       "255819  255820          0          0          0        159         57   \n",
       "\n",
       "        feature_6  feature_7  feature_8  feature_9  ...  feature_116  \\\n",
       "0               0          0          1          0  ...            0   \n",
       "1               1          0          1          0  ...            0   \n",
       "2               0          1          0          0  ...            0   \n",
       "3               1          1          0          0  ...            0   \n",
       "4               1          0          0          0  ...            0   \n",
       "...           ...        ...        ...        ...  ...          ...   \n",
       "255813          0          0          0          0  ...            0   \n",
       "255816          0          1          0          0  ...            0   \n",
       "255817          0          0          1          0  ...            0   \n",
       "255818          0          1          0          0  ...            0   \n",
       "255819          1          1          0          0  ...            0   \n",
       "\n",
       "        feature_117  feature_118  feature_119  feature_120  feature_121  \\\n",
       "0                 0            0          0.0         7000         4000   \n",
       "1                 0            0          0.0        10000         1000   \n",
       "2                 0            0          0.0         3000         1000   \n",
       "3                 0            0          0.0         2000         1000   \n",
       "4                 0            0          0.0         2000         2000   \n",
       "...             ...          ...          ...          ...          ...   \n",
       "255813            0            0          0.0         1150         1150   \n",
       "255816            0            0          0.0         3000         1000   \n",
       "255817            0            0          0.0         5800         2400   \n",
       "255818            0            0          0.0         2000         2000   \n",
       "255819            0            0          0.0         1000         1000   \n",
       "\n",
       "        feature_122  feature_123  feature_124  target  \n",
       "0         7526.3157        12000     0.583333       0  \n",
       "1         8393.4426        30000     0.333333       0  \n",
       "2         3425.9259        15000     0.200000       0  \n",
       "3         1946.6666         3000     0.666667       0  \n",
       "4         4444.4444         8000     0.250000       0  \n",
       "...             ...          ...          ...     ...  \n",
       "255813    1433.3333         2000     0.575000       0  \n",
       "255816    5157.8947        22000     0.136364       0  \n",
       "255817    4333.3333         5800     1.000000       0  \n",
       "255818    6000.0000        10000     0.200000       0  \n",
       "255819    1666.6666         2000     0.500000       0  \n",
       "\n",
       "[213927 rows x 126 columns]"
      ]
     },
     "execution_count": 150,
     "metadata": {},
     "output_type": "execute_result"
    }
   ],
   "source": [
    "df"
   ]
  },
  {
   "cell_type": "code",
   "execution_count": 151,
   "id": "41d3c5f1-8dff-48a4-a70b-e519c9e28b46",
   "metadata": {},
   "outputs": [
    {
     "name": "stderr",
     "output_type": "stream",
     "text": [
      "C:\\Users\\maxim\\AppData\\Local\\Temp\\ipykernel_13416\\3742010712.py:3: FutureWarning: \n",
      "\n",
      "Passing `palette` without assigning `hue` is deprecated and will be removed in v0.14.0. Assign the `x` variable to `hue` and set `legend=False` for the same effect.\n",
      "\n",
      "  sns.countplot(x=df['target'], palette=[green, red])\n"
     ]
    },
    {
     "data": {
      "text/plain": [
       "<Axes: xlabel='target', ylabel='count'>"
      ]
     },
     "execution_count": 151,
     "metadata": {},
     "output_type": "execute_result"
    },
    {
     "data": {
      "image/png": "[encoded data removed]",
      "text/plain": [
       "<Figure size 640x480 with 1 Axes>"
      ]
     },
     "metadata": {},
     "output_type": "display_data"
    }
   ],
   "source": [
    "green = '#52BE80'\n",
    "red = '#EC7063'\n",
    "sns.countplot(x=df['target'], palette=[green, red])"
   ]
  },
  {
   "cell_type": "code",
   "execution_count": 153,
   "id": "f4943192-8e55-4ce4-85ac-0e8ab778fe0f",
   "metadata": {},
   "outputs": [
    {
     "data": {
      "text/plain": [
       "<Axes: xlabel='feature_4'>"
      ]
     },
     "execution_count": 153,
     "metadata": {},
     "output_type": "execute_result"
    },
    {
     "data": {
      "image/png": "[encoded data removed]",
      "text/plain": [
       "<Figure size 640x480 with 1 Axes>"
      ]
     },
     "metadata": {},
     "output_type": "display_data"
    }
   ],
   "source": [
    "sns.boxplot(x=df[\"feature_4\"])"
   ]
  },
  {
   "cell_type": "code",
   "execution_count": 154,
   "id": "dafa6ecc-fe44-4d0f-9cc3-3f1c840892dc",
   "metadata": {},
   "outputs": [
    {
     "data": {
      "text/plain": [
       "<Axes: xlabel='feature_5'>"
      ]
     },
     "execution_count": 154,
     "metadata": {},
     "output_type": "execute_result"
    },
    {
     "data": {
      "image/png": "[encoded data removed]",
      "text/plain": [
       "<Figure size 640x480 with 1 Axes>"
      ]
     },
     "metadata": {},
     "output_type": "display_data"
    }
   ],
   "source": [
    "sns.boxplot(x=df[\"feature_5\"])"
   ]
  },
  {
   "cell_type": "code",
   "execution_count": 155,
   "id": "b2ee1be8-b3bc-470f-b675-226f162458ca",
   "metadata": {},
   "outputs": [
    {
     "data": {
      "text/plain": [
       "<Axes: xlabel='feature_120'>"
      ]
     },
     "execution_count": 155,
     "metadata": {},
     "output_type": "execute_result"
    },
    {
     "data": {
      "image/png": "[encoded data removed]",
      "text/plain": [
       "<Figure size 640x480 with 1 Axes>"
      ]
     },
     "metadata": {},
     "output_type": "display_data"
    }
   ],
   "source": [
    "sns.boxplot(x=df[\"feature_120\"])"
   ]
  },
  {
   "cell_type": "code",
   "execution_count": 156,
   "id": "46935c13-275b-4548-8f86-ea1fc5818ec6",
   "metadata": {},
   "outputs": [
    {
     "data": {
      "text/plain": [
       "<Axes: xlabel='feature_122'>"
      ]
     },
     "execution_count": 156,
     "metadata": {},
     "output_type": "execute_result"
    },
    {
     "data": {
      "image/png": "[encoded data removed]",
      "text/plain": [
       "<Figure size 640x480 with 1 Axes>"
      ]
     },
     "metadata": {},
     "output_type": "display_data"
    }
   ],
   "source": [
    "sns.boxplot(x=df[\"feature_122\"])"
   ]
  },
  {
   "cell_type": "markdown",
   "id": "cadec2b8-8aed-4674-a95a-12807424ccb9",
   "metadata": {},
   "source": [
    "## Что делать, если данных не хватает или они плохого качества? ##"
   ]
  },
  {
   "cell_type": "markdown",
   "id": "f81396dc-4498-497a-a8b1-6da204071f92",
   "metadata": {},
   "source": [
    "Улучшить качество данных путём аугментации данных."
   ]
  },
  {
   "cell_type": "markdown",
   "id": "bec0847b-4569-4c41-b1b4-5eb6a7b6bc77",
   "metadata": {},
   "source": [
    "## Что можно сделать чтобы повысить качество? ##"
   ]
  },
  {
   "cell_type": "markdown",
   "id": "3c67eda7-8fde-4b3c-b967-d319c98b3f25",
   "metadata": {},
   "source": [
    "Аугментировать данные вкраплением качественных экземпляров"
   ]
  },
  {
   "cell_type": "markdown",
   "id": "a61e2950-6d02-4b4a-82ea-933faa3d5059",
   "metadata": {},
   "source": [
    "# Вопросы по SQL"
   ]
  },
  {
   "cell_type": "markdown",
   "id": "a6d2e284-2d33-4bd9-b33e-5902b6a461e4",
   "metadata": {},
   "source": [
    "## 1) За что отвечает символ звёздочка (*) в SQL-запросе select?"
   ]
  },
  {
   "cell_type": "markdown",
   "id": "315e6d1e-0ad1-46e4-8c55-dd416fb03482",
   "metadata": {},
   "source": [
    "\"*\" Означает что выбираются все данные из таблицы"
   ]
  },
  {
   "cell_type": "markdown",
   "id": "c4e52ceb-ae66-4264-a1ed-7389d726e1d0",
   "metadata": {},
   "source": [
    "## 2) Чем отличается оператор union от оператора join?"
   ]
  },
  {
   "cell_type": "markdown",
   "id": "7e537576-37e3-457a-8c6d-d2492c1b73a3",
   "metadata": {},
   "source": [
    "Они пишутся и используются по разному, в случае union выдается одна таблица с объедененными значениями в случае join выдаётся сводная таблица"
   ]
  },
  {
   "cell_type": "markdown",
   "id": "c385a0bf-93d8-40ac-a61d-aa52ceb647f2",
   "metadata": {},
   "source": [
    "## 3) Чем отличается union от union all?"
   ]
  },
  {
   "cell_type": "markdown",
   "id": "6c740547-c560-438b-9e6c-e3f9f43d50cf",
   "metadata": {},
   "source": [
    "union объедегяет только часть данные union all объеденяет все данные в 1 таблицу"
   ]
  },
  {
   "cell_type": "markdown",
   "id": "5d233ac1-3ca5-4d4d-9c0e-1bc500e7711c",
   "metadata": {},
   "source": [
    "## 4) Расставьте в хронологическом порядке операции над БД выполняемые в следующем запросе, написав номер операции над ней в таблице ниже::"
   ]
  },
  {
   "attachments": {
    "6ce187e5-5568-4916-900f-6b9ef5100b69.png": {
     "image/png": "[encoded data removed]"
    }
   },
   "cell_type": "markdown",
   "id": "335deeb7-e8f1-4ca0-a7d8-27dc0d15dffc",
   "metadata": {},
   "source": [
    "![image.png](attachment:6ce187e5-5568-4916-900f-6b9ef5100b69.png)"
   ]
  },
  {
   "cell_type": "markdown",
   "id": "83d8ec0e-8c12-407b-9681-12cfc144bdf6",
   "metadata": {},
   "source": [
    "Предлагаю свой запрос на postgressql"
   ]
  },
  {
   "cell_type": "markdown",
   "id": "15d6812b-7485-4781-bf20-3685c4b62264",
   "metadata": {},
   "source": [
    "select *\r\n",
    "from train_sets.all_set_weather\r\n",
    "left join train_sets.all_set_business on train_sets.all_set_weather.hi = train_sets.all_set_business.hi \r\n",
    "where train_sets.all_set_weather.hi = 0\r\n",
    "order by random() limit 500"
   ]
  },
  {
   "cell_type": "code",
   "execution_count": null,
   "id": "e385aae3-958a-4d0e-8d21-629b13fa65ea",
   "metadata": {},
   "outputs": [],
   "source": []
  },
  {
   "attachments": {
    "15ee1144-ab02-4449-a3da-c4c9e9446d11.png": {
     "image/png": "[encoded data removed]"
    }
   },
   "cell_type": "markdown",
   "id": "4d64be85-8ff0-4b18-bb8b-a301659aa32e",
   "metadata": {},
   "source": [
    "![image.png](attachment:15ee1144-ab02-4449-a3da-c4c9e9446d11.png)"
   ]
  },
  {
   "cell_type": "markdown",
   "id": "ece7f5f7-6a61-4342-bf2a-37b4ca2ccf87",
   "metadata": {},
   "source": [
    "## 5) Если имеются две таблицы с совпадающими названиями полей (например таблицы Weather с полем date и таблица Holidays с полем date), объединенный join-ом по некоторому полю != date ,  а нужно вывести результат только одной таблицы. Каким образом это указывается в запросе?"
   ]
  },
  {
   "cell_type": "markdown",
   "id": "2569e66d-95bb-431d-9d62-0f37d774eb4c",
   "metadata": {},
   "source": [
    "Использовать union или union all"
   ]
  },
  {
   "cell_type": "markdown",
   "id": "2e1407d8-8eab-4584-b310-2a581932b7c9",
   "metadata": {},
   "source": [
    "## 6) Какая конструкция будет (в среднем) выполняться быстрее:"
   ]
  },
  {
   "cell_type": "markdown",
   "id": "43f5fd17-94f1-4fb3-a9cd-d8ba749f1c56",
   "metadata": {},
   "source": [
    "* select\r\n",
    "\tКлиент,\r\n",
    "\tcase when Источник_клиента = 'интернет-заявка'\r\n",
    "\t\tthen '1'\r\n",
    "\t\twhen Источник_клиента = 'оффлайн'\r\n",
    "\t\tthen '2'\r\n",
    "\tend \"Категория клиента\"\r\n",
    "from Clients (nolock)"
   ]
  },
  {
   "cell_type": "markdown",
   "id": "6fa42278-db16-4fd9-9d7e-ab6037167743",
   "metadata": {},
   "source": [
    "* select\n",
    "\tКлиент,\n",
    "\t1 as Категория клиента\n",
    "from Clients (nolock)\n",
    "where Источник_клиента = 'интернет-заявка'\n",
    " union all \n",
    "select\n",
    "\tКлиент,\n",
    "\t2 as Категория клиента\n",
    "from Clients (nolock)\n",
    "where Источник_клиента = 'оффлайн'"
   ]
  },
  {
   "cell_type": "markdown",
   "id": "4456afeb-9435-4d06-8fe0-4a324726e068",
   "metadata": {},
   "source": [
    "Вторая конструкция выполняется быстрее тк там стоит nolock но разница невелика"
   ]
  },
  {
   "cell_type": "markdown",
   "id": "528c3c14-1c4a-42e3-b60a-7a4d52f802c3",
   "metadata": {},
   "source": [
    "## 7) Имеются 2 поля  в формате datetime, но из-за неудачного проектирования запись идет таким образом, что в одном поле дата, но без времени, а в другом поле – время, но без даты, нужно получить одно поле в котором будет и дата и время:"
   ]
  },
  {
   "attachments": {
    "08e1339d-345a-4ed9-857c-c1d0460c0e86.png": {
     "image/png": "[encoded data removed]"
    }
   },
   "cell_type": "markdown",
   "id": "68fbfb9e-8482-488c-9e80-cad7103c048d",
   "metadata": {},
   "source": [
    "![image.png](attachment:08e1339d-345a-4ed9-857c-c1d0460c0e86.png)"
   ]
  },
  {
   "cell_type": "markdown",
   "id": "0bc90b6b-8b49-4d44-9476-a20290575d7a",
   "metadata": {},
   "source": [
    "Создать поле датавремя, перепроектировать систему"
   ]
  },
  {
   "cell_type": "markdown",
   "id": "6baaa29e-df8e-47c7-9765-8c6c49303cd5",
   "metadata": {},
   "source": [
    "## 8) Что является более быстрым при прочих равных  при select-запросе из двух объединенных таблиц – указание условий в блоке join или указание условий в блоке where?"
   ]
  },
  {
   "cell_type": "markdown",
   "id": "96d2b923-52d0-4032-ba68-90d2e424dad2",
   "metadata": {},
   "source": [
    "Указание в блоке join. На практике таким не занимался."
   ]
  },
  {
   "cell_type": "markdown",
   "id": "b8015f6c-634d-45a0-9e91-617264122986",
   "metadata": {},
   "source": [
    "## 9) Чем отличается raw_number от rank?"
   ]
  },
  {
   "cell_type": "markdown",
   "id": "a65f2c11-dc78-421f-8a32-f7ceaa05e726",
   "metadata": {},
   "source": [
    "Функция ROW_NUMBER() присваивает уникальный идентификатор каждой строке результата запроса. В качестве оператора используется OVER(), он определяет условия разбиения на партиции и устанавливает правила сортировки записей."
   ]
  },
  {
   "cell_type": "markdown",
   "id": "3eb6e026-0c4b-4f43-8ba4-84c10e4dd39f",
   "metadata": {},
   "source": [
    "Основное различие между функциями RANK() и DENSE_RANK() заключается в способе присвоения рангов записям в упорядоченном наборе данных. RANK() творит \"пробелы\" в ранжированном списке после группы совпадающих значений (например, 1, 1, 3), тогда как DENSE_RANK() продолжает ранжирование без пропусков (например, 1, 1, 2)."
   ]
  },
  {
   "cell_type": "markdown",
   "id": "da3d7521-19c7-4012-a8a9-3e2db209bcbf",
   "metadata": {},
   "source": [
    "## 10) Какой командой можно вернуть все строки таблице, где поле Comment содержит хотя бы пробел или пустое выражение (но не NULL):\r\n",
    "Пример таблицы"
   ]
  },
  {
   "attachments": {
    "003c8096-3515-43a1-b1f2-779458e88c1b.png": {
     "image/png": "[encoded data removed]"
    }
   },
   "cell_type": "markdown",
   "id": "38dd5ec9-664e-41dc-bc04-77bdb00b4209",
   "metadata": {},
   "source": [
    "![image.png](attachment:003c8096-3515-43a1-b1f2-779458e88c1b.png)"
   ]
  },
  {
   "attachments": {
    "10ac40a6-7773-46b7-9d9b-0869d13020c3.png": {
     "image/png": "[encoded data removed]"
    }
   },
   "cell_type": "markdown",
   "id": "d24b1f84-8e70-432c-95ff-2970532c4d93",
   "metadata": {},
   "source": [
    "![image.png](attachment:10ac40a6-7773-46b7-9d9b-0869d13020c3.png)"
   ]
  },
  {
   "cell_type": "markdown",
   "id": "320bdf5c-717e-4b75-9b15-d09741fe3dbb",
   "metadata": {},
   "source": [
    "## 11) Напишите условие, которое вернет все строки, содержащие нижнее подчеркивание в поле Comment ##"
   ]
  },
  {
   "cell_type": "code",
   "execution_count": null,
   "id": "2ce5d34c-c32b-4705-9b60-073827a60cee",
   "metadata": {},
   "outputs": [],
   "source": []
  }
 ],
 "metadata": {
  "kernelspec": {
   "display_name": "Python 3 (ipykernel)",
   "language": "python",
   "name": "python3"
  },
  "language_info": {
   "codemirror_mode": {
    "name": "ipython",
    "version": 3
   },
   "file_extension": ".py",
   "mimetype": "text/x-python",
   "name": "python",
   "nbconvert_exporter": "python",
   "pygments_lexer": "ipython3",
   "version": "3.10.14"
  }
 },
 "nbformat": 4,
 "nbformat_minor": 5
}
